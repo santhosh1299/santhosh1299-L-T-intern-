{
  "nbformat": 4,
  "nbformat_minor": 0,
  "metadata": {
    "colab": {
      "name": "text extraction-L&T 1.ipynb",
      "provenance": [],
      "authorship_tag": "ABX9TyPjHBb0pEuemS1U3/iRbO+K",
      "include_colab_link": true
    },
    "kernelspec": {
      "name": "python3",
      "display_name": "Python 3"
    },
    "language_info": {
      "name": "python"
    }
  },
  "cells": [
    {
      "cell_type": "markdown",
      "metadata": {
        "id": "view-in-github",
        "colab_type": "text"
      },
      "source": [
        "<a href=\"https://colab.research.google.com/github/santhosh1299/santhosh1299-L-T-intern-/blob/main/text_extraction_L%26T_1.ipynb\" target=\"_parent\"><img src=\"https://colab.research.google.com/assets/colab-badge.svg\" alt=\"Open In Colab\"/></a>"
      ]
    },
    {
      "cell_type": "code",
      "metadata": {
        "colab": {
          "base_uri": "https://localhost:8080/"
        },
        "id": "SSStI3SbogzG",
        "outputId": "147b0d6a-d569-49b3-a3e3-798ab5052a76"
      },
      "source": [
        "!pip install PyPDF2"
      ],
      "execution_count": 9,
      "outputs": [
        {
          "output_type": "stream",
          "text": [
            "Requirement already satisfied: PyPDF2 in /usr/local/lib/python3.7/dist-packages (1.26.0)\n"
          ],
          "name": "stdout"
        }
      ]
    },
    {
      "cell_type": "code",
      "metadata": {
        "colab": {
          "base_uri": "https://localhost:8080/"
        },
        "id": "O4prjtD-nbia",
        "outputId": "d51da225-b7be-4e33-8f7b-dad4b03836fb"
      },
      "source": [
        "import PyPDF2\n",
        "pdfFileObj = open('<file name>','rb')     #'rb' for read binary mode \n",
        "\n",
        "pdfReader = PyPDF2.PdfFileReader(pdfFileObj)\n",
        "\n",
        "print(pdfReader.numPages)\n",
        "\n",
        "pageObj = pdfReader.getPage(0)          #'9' is the page number\n",
        "\n",
        "print(pageObj.extractText())"
      ],
      "execution_count": 10,
      "outputs": [
        {
          "output_type": "stream",
          "text": [
            "1\n",
            "\n"
          ],
          "name": "stdout"
        }
      ]
    },
    {
      "cell_type": "code",
      "metadata": {
        "id": "gBKZl7Woov6L"
      },
      "source": [
        ""
      ],
      "execution_count": 10,
      "outputs": []
    }
  ]
}