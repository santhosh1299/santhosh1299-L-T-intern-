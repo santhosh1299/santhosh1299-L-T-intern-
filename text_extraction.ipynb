{
  "nbformat": 4,
  "nbformat_minor": 0,
  "metadata": {
    "colab": {
      "name": "text extraction-L&T 1.ipynb",
      "provenance": [],
      "authorship_tag": "ABX9TyOxEWQpqUaVppT6VwG/tBbY",
      "include_colab_link": true
    },
    "kernelspec": {
      "name": "python3",
      "display_name": "Python 3"
    },
    "language_info": {
      "name": "python"
    }
  },
  "cells": [
    {
      "cell_type": "markdown",
      "metadata": {
        "id": "view-in-github",
        "colab_type": "text"
      },
      "source": [
        "<a href=\"https://colab.research.google.com/github/santhosh1299/santhosh1299-L-T-intern-/blob/main/text_extraction.ipynb\" target=\"_parent\"><img src=\"https://colab.research.google.com/assets/colab-badge.svg\" alt=\"Open In Colab\"/></a>"
      ]
    },
    {
      "cell_type": "code",
      "metadata": {
        "colab": {
          "base_uri": "https://localhost:8080/"
        },
        "id": "SSStI3SbogzG",
        "outputId": "948cf6d4-b030-4301-892f-f121fc9704de"
      },
      "source": [
        "!pip install PyPDF2"
      ],
      "execution_count": 3,
      "outputs": [
        {
          "output_type": "stream",
          "text": [
            "Collecting PyPDF2\n",
            "\u001b[?25l  Downloading https://files.pythonhosted.org/packages/b4/01/68fcc0d43daf4c6bdbc6b33cc3f77bda531c86b174cac56ef0ffdb96faab/PyPDF2-1.26.0.tar.gz (77kB)\n",
            "\r\u001b[K     |████▎                           | 10kB 11.9MB/s eta 0:00:01\r\u001b[K     |████████▌                       | 20kB 10.2MB/s eta 0:00:01\r\u001b[K     |████████████▊                   | 30kB 6.7MB/s eta 0:00:01\r\u001b[K     |█████████████████               | 40kB 6.3MB/s eta 0:00:01\r\u001b[K     |█████████████████████▏          | 51kB 4.6MB/s eta 0:00:01\r\u001b[K     |█████████████████████████▍      | 61kB 4.8MB/s eta 0:00:01\r\u001b[K     |█████████████████████████████▋  | 71kB 5.0MB/s eta 0:00:01\r\u001b[K     |████████████████████████████████| 81kB 3.6MB/s \n",
            "\u001b[?25hBuilding wheels for collected packages: PyPDF2\n",
            "  Building wheel for PyPDF2 (setup.py) ... \u001b[?25l\u001b[?25hdone\n",
            "  Created wheel for PyPDF2: filename=PyPDF2-1.26.0-cp37-none-any.whl size=61085 sha256=20d8a049b0b195cd77ce1c7d284f181852234e9844657f9130806f7713512589\n",
            "  Stored in directory: /root/.cache/pip/wheels/53/84/19/35bc977c8bf5f0c23a8a011aa958acd4da4bbd7a229315c1b7\n",
            "Successfully built PyPDF2\n",
            "Installing collected packages: PyPDF2\n",
            "Successfully installed PyPDF2-1.26.0\n"
          ],
          "name": "stdout"
        }
      ]
    },
    {
      "cell_type": "code",
      "metadata": {
        "colab": {
          "base_uri": "https://localhost:8080/"
        },
        "id": "O4prjtD-nbia",
        "outputId": "58760d5d-002a-4a94-9cee-7dcc3680f6cc"
      },
      "source": [
        "import PyPDF2\n",
        "pdfFileObj = open('/content/ielts challan.pdf','rb')     #'rb' for read binary mode \n",
        "\n",
        "pdfReader = PyPDF2.PdfFileReader(pdfFileObj)\n",
        "\n",
        "print(pdfReader.numPages)\n",
        "\n",
        "pageObj = pdfReader.getPage(0)          #'9' is the page number\n",
        "\n",
        "print(pageObj.extractText())"
      ],
      "execution_count": 8,
      "outputs": [
        {
          "output_type": "stream",
          "text": [
            "1\n",
            "\n",
            "\n",
            "\n",
            "\n",
            "\n",
            "\n",
            "\n",
            "\n",
            "Payment of the IELTS fees at ICICI Bank will be taken as the test taker™s acceptance of the \n",
            "IELTS examination terms and conditions.\n",
            "\n",
            "\n",
            "britishcouncil.in/ieltsDEPOSIT SLIP(Bank Copy)AmountAmount (in words)Cash DetailsBranchTransaction ID\n",
            "\n",
            "Class / IELTS \n",
            "Test Date\n",
            "\n",
            "1400000.Amount5002000Denomination2001005020105Total\n",
            "Fourteen thousand onlyPlease Note:\n",
            "1. https://ielts.britishcouncil.org/ 2. \n",
            "3.  https://ielts.britishcouncil.org/CandidateLogin.aspx\n",
            "4. 0120-4569000 or 0120-6684353\n",
            "\n",
            "ielts.britishcouncil.org/Candidatelogin.aspx and get instant \n",
            "\n",
            "Do you want instant confirmation for your IELTS test?\n",
            "Name of BranchBranch Sol IdFirst NameLast NameStudent Name / Test Taker Name\n",
            "Account to becredited0  0  3  6  S  L  F  E  E  C  O  L\n",
            "Date of Deposit\n",
            "Roll No. / \n",
            "IELTS Reference No.\n",
            "Institution Name / CodeFCBHCLSection / Venue Code*\n",
            "AmountAmount (in words)Cash DetailsBranchTransaction ID\n",
            "\n",
            "Class / IELTS \n",
            "\n",
            "Test Date\n",
            "\n",
            "1400000.Amount5002000Denomination2001005020105Total\n",
            "Fourteen thousand onlyFirst NameLast NameStudent Name / Test Taker Name\n",
            "Account to becredited0  0  3  6  S  L  F  E  E  C  O  L\n",
            "Date of Deposit\n",
            "Institution Name / CodeFCBHCLSection / Venue Code*\n",
            "DEPOSIT SLIP(Candidate Copy)Name of BranchBranch Sol Id\n",
            "\n",
            "Roll No. / \n",
            "IELTS Reference No.\n",
            "\n"
          ],
          "name": "stdout"
        },
        {
          "output_type": "stream",
          "text": [
            "PdfReadWarning: Xref table not zero-indexed. ID numbers for objects will be corrected. [pdf.py:1736]\n"
          ],
          "name": "stderr"
        }
      ]
    },
    {
      "cell_type": "code",
      "metadata": {
        "id": "gBKZl7Woov6L"
      },
      "source": [
        ""
      ],
      "execution_count": null,
      "outputs": []
    }
  ]
}